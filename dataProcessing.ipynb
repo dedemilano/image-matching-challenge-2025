{
 "cells": [
  {
   "cell_type": "code",
   "execution_count": 15,
   "id": "b1995ce6",
   "metadata": {},
   "outputs": [],
   "source": [
    "import torch\n",
    "from torch.utils.data import Dataset, DataLoader\n",
    "from torchvision.transforms import ToTensor\n",
    "import pandas as pd"
   ]
  },
  {
   "cell_type": "code",
   "execution_count": 16,
   "id": "86453dcc",
   "metadata": {},
   "outputs": [
    {
     "data": {
      "application/vnd.microsoft.datawrangler.viewer.v0+json": {
       "columns": [
        {
         "name": "index",
         "rawType": "int64",
         "type": "integer"
        },
        {
         "name": "dataset",
         "rawType": "object",
         "type": "string"
        },
        {
         "name": "scene",
         "rawType": "object",
         "type": "string"
        },
        {
         "name": "image",
         "rawType": "object",
         "type": "string"
        },
        {
         "name": "rotation_matrix",
         "rawType": "object",
         "type": "string"
        },
        {
         "name": "translation_vector",
         "rawType": "object",
         "type": "string"
        }
       ],
       "conversionMethod": "pd.DataFrame",
       "ref": "0916532b-482d-48cb-bed4-97e01aa12efa",
       "rows": [
        [
         "0",
         "imc2023_haiper",
         "fountain",
         "fountain_image_116.png",
         "0.122655949;0.947713775;-0.294608417;0.122670643;0.280096125;0.952101924;0.984838784;-0.152920769;-0.081901202",
         "0.093771314;-0.803560988;2.062001533"
        ],
        [
         "1",
         "imc2023_haiper",
         "fountain",
         "fountain_image_108.png",
         "0.474305910;0.359108654;-0.803787832;0.288841620;0.799003104;0.527413081;0.831627574;-0.482322521;0.275246369",
         "0.358946647;-0.797557548;1.910906929"
        ],
        [
         "2",
         "imc2023_haiper",
         "fountain",
         "fountain_image_101.png",
         "0.565115476;-0.138485064;-0.813305838;0.506678120;0.836251817;0.209666834;0.651092760;-0.530570246;0.542746195",
         "0.146922468;-0.981392596;2.009002852"
        ],
        [
         "3",
         "imc2023_haiper",
         "fountain",
         "fountain_image_082.png",
         "-0.308320392;-0.794654112;0.522937261;0.948141740;-0.212071327;0.236755133;-0.077238441;0.568815080;0.818830647",
         "0.206413831;-1.174321103;3.667167680"
        ],
        [
         "4",
         "imc2023_haiper",
         "fountain",
         "fountain_image_071.png",
         "-0.569002830;-0.103808175;0.815757098;0.778745467;-0.386707278;0.493976698;0.264180387;0.916341281;0.300877681",
         "-0.015140892;-1.334052012;3.488936597"
        ]
       ],
       "shape": {
        "columns": 5,
        "rows": 5
       }
      },
      "text/html": [
       "<div>\n",
       "<style scoped>\n",
       "    .dataframe tbody tr th:only-of-type {\n",
       "        vertical-align: middle;\n",
       "    }\n",
       "\n",
       "    .dataframe tbody tr th {\n",
       "        vertical-align: top;\n",
       "    }\n",
       "\n",
       "    .dataframe thead th {\n",
       "        text-align: right;\n",
       "    }\n",
       "</style>\n",
       "<table border=\"1\" class=\"dataframe\">\n",
       "  <thead>\n",
       "    <tr style=\"text-align: right;\">\n",
       "      <th></th>\n",
       "      <th>dataset</th>\n",
       "      <th>scene</th>\n",
       "      <th>image</th>\n",
       "      <th>rotation_matrix</th>\n",
       "      <th>translation_vector</th>\n",
       "    </tr>\n",
       "  </thead>\n",
       "  <tbody>\n",
       "    <tr>\n",
       "      <th>0</th>\n",
       "      <td>imc2023_haiper</td>\n",
       "      <td>fountain</td>\n",
       "      <td>fountain_image_116.png</td>\n",
       "      <td>0.122655949;0.947713775;-0.294608417;0.1226706...</td>\n",
       "      <td>0.093771314;-0.803560988;2.062001533</td>\n",
       "    </tr>\n",
       "    <tr>\n",
       "      <th>1</th>\n",
       "      <td>imc2023_haiper</td>\n",
       "      <td>fountain</td>\n",
       "      <td>fountain_image_108.png</td>\n",
       "      <td>0.474305910;0.359108654;-0.803787832;0.2888416...</td>\n",
       "      <td>0.358946647;-0.797557548;1.910906929</td>\n",
       "    </tr>\n",
       "    <tr>\n",
       "      <th>2</th>\n",
       "      <td>imc2023_haiper</td>\n",
       "      <td>fountain</td>\n",
       "      <td>fountain_image_101.png</td>\n",
       "      <td>0.565115476;-0.138485064;-0.813305838;0.506678...</td>\n",
       "      <td>0.146922468;-0.981392596;2.009002852</td>\n",
       "    </tr>\n",
       "    <tr>\n",
       "      <th>3</th>\n",
       "      <td>imc2023_haiper</td>\n",
       "      <td>fountain</td>\n",
       "      <td>fountain_image_082.png</td>\n",
       "      <td>-0.308320392;-0.794654112;0.522937261;0.948141...</td>\n",
       "      <td>0.206413831;-1.174321103;3.667167680</td>\n",
       "    </tr>\n",
       "    <tr>\n",
       "      <th>4</th>\n",
       "      <td>imc2023_haiper</td>\n",
       "      <td>fountain</td>\n",
       "      <td>fountain_image_071.png</td>\n",
       "      <td>-0.569002830;-0.103808175;0.815757098;0.778745...</td>\n",
       "      <td>-0.015140892;-1.334052012;3.488936597</td>\n",
       "    </tr>\n",
       "  </tbody>\n",
       "</table>\n",
       "</div>"
      ],
      "text/plain": [
       "          dataset     scene                   image  \\\n",
       "0  imc2023_haiper  fountain  fountain_image_116.png   \n",
       "1  imc2023_haiper  fountain  fountain_image_108.png   \n",
       "2  imc2023_haiper  fountain  fountain_image_101.png   \n",
       "3  imc2023_haiper  fountain  fountain_image_082.png   \n",
       "4  imc2023_haiper  fountain  fountain_image_071.png   \n",
       "\n",
       "                                     rotation_matrix  \\\n",
       "0  0.122655949;0.947713775;-0.294608417;0.1226706...   \n",
       "1  0.474305910;0.359108654;-0.803787832;0.2888416...   \n",
       "2  0.565115476;-0.138485064;-0.813305838;0.506678...   \n",
       "3  -0.308320392;-0.794654112;0.522937261;0.948141...   \n",
       "4  -0.569002830;-0.103808175;0.815757098;0.778745...   \n",
       "\n",
       "                      translation_vector  \n",
       "0   0.093771314;-0.803560988;2.062001533  \n",
       "1   0.358946647;-0.797557548;1.910906929  \n",
       "2   0.146922468;-0.981392596;2.009002852  \n",
       "3   0.206413831;-1.174321103;3.667167680  \n",
       "4  -0.015140892;-1.334052012;3.488936597  "
      ]
     },
     "execution_count": 16,
     "metadata": {},
     "output_type": "execute_result"
    }
   ],
   "source": [
    "train_labels_file = 'train_labels.csv'\n",
    "train_images_dir = 'data/train'\n",
    "\n",
    "data = pd.read_csv(train_labels_file)\n",
    "data.head()\n"
   ]
  },
  {
   "cell_type": "code",
   "execution_count": 20,
   "id": "8f49f43c",
   "metadata": {},
   "outputs": [
    {
     "data": {
      "text/plain": [
       "True"
      ]
     },
     "execution_count": 20,
     "metadata": {},
     "output_type": "execute_result"
    }
   ],
   "source": [
    "dataset_in_train_labels = list(data['dataset'].unique())  # Check unique values in the 'dataset' column\n",
    "import os\n",
    "dataset_in_data_train = os.listdir(train_images_dir)  # List items in the directory\n",
    "\n",
    "dataset_in_train_labels.sort() == dataset_in_data_train.sort()  # Sort both lists for comparison\n",
    "# Check if the two lists are equal\n"
   ]
  },
  {
   "cell_type": "markdown",
   "id": "59a39818",
   "metadata": {},
   "source": [
    "##### i wanted  to be sure that each dataset in my train_labels_file has a corresponding folder in the train_images_dir"
   ]
  },
  {
   "cell_type": "code",
   "execution_count": null,
   "id": "30c79282",
   "metadata": {},
   "outputs": [],
   "source": []
  },
  {
   "cell_type": "code",
   "execution_count": null,
   "id": "3c4b5561",
   "metadata": {},
   "outputs": [],
   "source": [
    "#class CustomDataset(Dataset):\n",
    "#     def __init__(self, labels_file, images_dir, transform=None):\n",
    "#         self.labels_df = pd.read_csv(labels_file)\n",
    "#         self.images_dir = images_dir\n",
    "#         self.transform = transform\n",
    "\n",
    "#     def __len__(self):\n",
    "#         return len(self.labels_df)\n",
    "\n",
    "#     def __getitem__(self, idx):\n",
    "#         img_name = f\"{self.images_dir}/{self.labels_df.iloc[idx, 0]}\"\n",
    "#         image = ToTensor()(img_name)  # Placeholder for actual image loading\n",
    "#         label = self.labels_df.iloc[idx, 1]\n",
    "        \n",
    "#         if self.transform:\n",
    "#             image = self.transform(image)\n",
    "\n",
    "#         return image, label"
   ]
  }
 ],
 "metadata": {
  "kernelspec": {
   "display_name": "Python 3",
   "language": "python",
   "name": "python3"
  },
  "language_info": {
   "codemirror_mode": {
    "name": "ipython",
    "version": 3
   },
   "file_extension": ".py",
   "mimetype": "text/x-python",
   "name": "python",
   "nbconvert_exporter": "python",
   "pygments_lexer": "ipython3",
   "version": "3.10.7"
  }
 },
 "nbformat": 4,
 "nbformat_minor": 5
}
